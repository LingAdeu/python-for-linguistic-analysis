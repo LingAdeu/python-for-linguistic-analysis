{
 "cells": [
  {
   "cell_type": "markdown",
   "metadata": {
    "id": "eI6g7LIoQ17C"
   },
   "source": [
    "# **Dependency Structure**"
   ]
  },
  {
   "cell_type": "code",
   "execution_count": 1,
   "metadata": {
    "colab": {
     "base_uri": "https://localhost:8080/"
    },
    "executionInfo": {
     "elapsed": 144609,
     "status": "ok",
     "timestamp": 1743951940753,
     "user": {
      "displayName": "Eddie",
      "userId": "04962712568923965578"
     },
     "user_tz": -420
    },
    "id": "KPVPgMMGQ9H_",
    "outputId": "668c5170-960a-4c5e-c298-0ca85bcc4af1"
   },
   "outputs": [
    {
     "name": "stdout",
     "output_type": "stream",
     "text": [
      "\u001b[2K   \u001b[90m━━━━━━━━━━━━━━━━━━━━━━━━━━━━━━━━━━━━━━━━\u001b[0m \u001b[32m1.1/1.1 MB\u001b[0m \u001b[31m13.4 MB/s\u001b[0m eta \u001b[36m0:00:00\u001b[0m\n",
      "\u001b[2K   \u001b[90m━━━━━━━━━━━━━━━━━━━━━━━━━━━━━━━━━━━━━━━━\u001b[0m \u001b[32m363.4/363.4 MB\u001b[0m \u001b[31m3.0 MB/s\u001b[0m eta \u001b[36m0:00:00\u001b[0m\n",
      "\u001b[2K   \u001b[90m━━━━━━━━━━━━━━━━━━━━━━━━━━━━━━━━━━━━━━━━\u001b[0m \u001b[32m13.8/13.8 MB\u001b[0m \u001b[31m23.3 MB/s\u001b[0m eta \u001b[36m0:00:00\u001b[0m\n",
      "\u001b[2K   \u001b[90m━━━━━━━━━━━━━━━━━━━━━━━━━━━━━━━━━━━━━━━━\u001b[0m \u001b[32m24.6/24.6 MB\u001b[0m \u001b[31m31.0 MB/s\u001b[0m eta \u001b[36m0:00:00\u001b[0m\n",
      "\u001b[2K   \u001b[90m━━━━━━━━━━━━━━━━━━━━━━━━━━━━━━━━━━━━━━━━\u001b[0m \u001b[32m883.7/883.7 kB\u001b[0m \u001b[31m15.1 MB/s\u001b[0m eta \u001b[36m0:00:00\u001b[0m\n",
      "\u001b[2K   \u001b[90m━━━━━━━━━━━━━━━━━━━━━━━━━━━━━━━━━━━━━━━━\u001b[0m \u001b[32m664.8/664.8 MB\u001b[0m \u001b[31m2.5 MB/s\u001b[0m eta \u001b[36m0:00:00\u001b[0m\n",
      "\u001b[2K   \u001b[90m━━━━━━━━━━━━━━━━━━━━━━━━━━━━━━━━━━━━━━━━\u001b[0m \u001b[32m211.5/211.5 MB\u001b[0m \u001b[31m4.6 MB/s\u001b[0m eta \u001b[36m0:00:00\u001b[0m\n",
      "\u001b[2K   \u001b[90m━━━━━━━━━━━━━━━━━━━━━━━━━━━━━━━━━━━━━━━━\u001b[0m \u001b[32m56.3/56.3 MB\u001b[0m \u001b[31m10.2 MB/s\u001b[0m eta \u001b[36m0:00:00\u001b[0m\n",
      "\u001b[2K   \u001b[90m━━━━━━━━━━━━━━━━━━━━━━━━━━━━━━━━━━━━━━━━\u001b[0m \u001b[32m127.9/127.9 MB\u001b[0m \u001b[31m7.6 MB/s\u001b[0m eta \u001b[36m0:00:00\u001b[0m\n",
      "\u001b[2K   \u001b[90m━━━━━━━━━━━━━━━━━━━━━━━━━━━━━━━━━━━━━━━━\u001b[0m \u001b[32m207.5/207.5 MB\u001b[0m \u001b[31m4.5 MB/s\u001b[0m eta \u001b[36m0:00:00\u001b[0m\n",
      "\u001b[2K   \u001b[90m━━━━━━━━━━━━━━━━━━━━━━━━━━━━━━━━━━━━━━━━\u001b[0m \u001b[32m21.1/21.1 MB\u001b[0m \u001b[31m53.1 MB/s\u001b[0m eta \u001b[36m0:00:00\u001b[0m\n",
      "\u001b[2K   \u001b[90m━━━━━━━━━━━━━━━━━━━━━━━━━━━━━━━━━━━━━━━━\u001b[0m \u001b[32m590.6/590.6 kB\u001b[0m \u001b[31m28.9 MB/s\u001b[0m eta \u001b[36m0:00:00\u001b[0m\n",
      "\u001b[?25h"
     ]
    }
   ],
   "source": [
    "!pip install -q stanza deplacy"
   ]
  },
  {
   "cell_type": "code",
   "execution_count": 2,
   "metadata": {
    "executionInfo": {
     "elapsed": 13003,
     "status": "ok",
     "timestamp": 1743951953753,
     "user": {
      "displayName": "Eddie",
      "userId": "04962712568923965578"
     },
     "user_tz": -420
    },
    "id": "DLkt4mfAQvJ9"
   },
   "outputs": [],
   "source": [
    "import stanza     # for NLP tasks\n",
    "import deplacy    # for visualizing depdenency tree\n",
    "import graphviz   # for visualizing dependency tree"
   ]
  },
  {
   "cell_type": "code",
   "execution_count": 3,
   "metadata": {
    "executionInfo": {
     "elapsed": 13190,
     "status": "ok",
     "timestamp": 1743951966939,
     "user": {
      "displayName": "Eddie",
      "userId": "04962712568923965578"
     },
     "user_tz": -420
    },
    "id": "O0eMzdgWRr7Z"
   },
   "outputs": [],
   "source": [
    "# download id model\n",
    "stanza.download('id', verbose=False)"
   ]
  },
  {
   "cell_type": "code",
   "execution_count": 4,
   "metadata": {
    "executionInfo": {
     "elapsed": 24674,
     "status": "ok",
     "timestamp": 1743951991615,
     "user": {
      "displayName": "Eddie",
      "userId": "04962712568923965578"
     },
     "user_tz": -420
    },
    "id": "IuoRknMyR6jo"
   },
   "outputs": [],
   "source": [
    "# create pipeline for id texts\n",
    "nlp = stanza.Pipeline('id')\n",
    "\n",
    "# process sentence\n",
    "doc = nlp(\"\"\"Ini adalah kalimat biasa saja.\"\"\")"
   ]
  },
  {
   "cell_type": "markdown",
   "metadata": {
    "id": "TUcqjRRCqUxq"
   },
   "source": [
    "| Token\t| Head\t| Dep Relation\t| Explanation |\n",
    "| --- | --- | --- | --- |\n",
    "| Ini\t| adalah\t| `nsubj`\t| Subject of the copula \"adalah\" |\n",
    "| adalah\t| ROOT\t| `root`\t| Main verb (copula) |\n",
    "| kalimat\t| adalah | `xcomp`\t| Predicative complement (noun) |\n",
    "| biasa\t| kalimat\t| `amod`\t| Adjective modifier of \"kalimat\" |\n",
    "| saja\t| biasa\t| `advmod`\t| Limiting adverb (\"just\") |\n",
    "| .\t| adalah\t| `punct` | \tSentence-ending punctuation |"
   ]
  },
  {
   "cell_type": "code",
   "execution_count": 5,
   "metadata": {
    "colab": {
     "base_uri": "https://localhost:8080/"
    },
    "executionInfo": {
     "elapsed": 18,
     "status": "ok",
     "timestamp": 1743951991636,
     "user": {
      "displayName": "Eddie",
      "userId": "04962712568923965578"
     },
     "user_tz": -420
    },
    "id": "aN9QBg26Sq26",
    "outputId": "43805f31-7500-4990-e066-3f65ae73b415"
   },
   "outputs": [
    {
     "name": "stdout",
     "output_type": "stream",
     "text": [
      "[\n",
      "  [\n",
      "    {\n",
      "      \"id\": 1,\n",
      "      \"text\": \"Ini\",\n",
      "      \"lemma\": \"ini\",\n",
      "      \"upos\": \"PRON\",\n",
      "      \"xpos\": \"B--\",\n",
      "      \"feats\": \"PronType=Dem\",\n",
      "      \"head\": 3,\n",
      "      \"deprel\": \"nsubj\",\n",
      "      \"start_char\": 0,\n",
      "      \"end_char\": 3\n",
      "    },\n",
      "    {\n",
      "      \"id\": 2,\n",
      "      \"text\": \"adalah\",\n",
      "      \"lemma\": \"adalah\",\n",
      "      \"upos\": \"AUX\",\n",
      "      \"xpos\": \"O--\",\n",
      "      \"head\": 3,\n",
      "      \"deprel\": \"cop\",\n",
      "      \"start_char\": 4,\n",
      "      \"end_char\": 10\n",
      "    },\n",
      "    {\n",
      "      \"id\": 3,\n",
      "      \"text\": \"kalimat\",\n",
      "      \"lemma\": \"kalimat\",\n",
      "      \"upos\": \"NOUN\",\n",
      "      \"xpos\": \"NSD\",\n",
      "      \"feats\": \"Number=Sing\",\n",
      "      \"head\": 0,\n",
      "      \"deprel\": \"root\",\n",
      "      \"start_char\": 11,\n",
      "      \"end_char\": 18\n",
      "    },\n",
      "    {\n",
      "      \"id\": 4,\n",
      "      \"text\": \"biasa\",\n",
      "      \"lemma\": \"biasa\",\n",
      "      \"upos\": \"ADJ\",\n",
      "      \"xpos\": \"ASP\",\n",
      "      \"head\": 3,\n",
      "      \"deprel\": \"amod\",\n",
      "      \"start_char\": 19,\n",
      "      \"end_char\": 24\n",
      "    },\n",
      "    {\n",
      "      \"id\": 5,\n",
      "      \"text\": \"saja\",\n",
      "      \"lemma\": \"saja\",\n",
      "      \"upos\": \"ADV\",\n",
      "      \"xpos\": \"D--\",\n",
      "      \"head\": 3,\n",
      "      \"deprel\": \"advmod\",\n",
      "      \"start_char\": 25,\n",
      "      \"end_char\": 29,\n",
      "      \"misc\": \"SpaceAfter=No\"\n",
      "    },\n",
      "    {\n",
      "      \"id\": 6,\n",
      "      \"text\": \".\",\n",
      "      \"lemma\": \".\",\n",
      "      \"upos\": \"PUNCT\",\n",
      "      \"xpos\": \"Z--\",\n",
      "      \"head\": 3,\n",
      "      \"deprel\": \"punct\",\n",
      "      \"start_char\": 29,\n",
      "      \"end_char\": 30,\n",
      "      \"misc\": \"SpaceAfter=No\"\n",
      "    }\n",
      "  ]\n",
      "]\n"
     ]
    }
   ],
   "source": [
    "# print processed sentence\n",
    "print(doc)"
   ]
  },
  {
   "cell_type": "code",
   "execution_count": 6,
   "metadata": {
    "colab": {
     "base_uri": "https://localhost:8080/"
    },
    "executionInfo": {
     "elapsed": 9,
     "status": "ok",
     "timestamp": 1743951991638,
     "user": {
      "displayName": "Eddie",
      "userId": "04962712568923965578"
     },
     "user_tz": -420
    },
    "id": "Q7IiUi1_TD9X",
    "outputId": "5beebda8-241b-4d81-a199-07d21d0dfdc5"
   },
   "outputs": [
    {
     "name": "stdout",
     "output_type": "stream",
     "text": [
      "Ini     PRON  <══════╗   nsubj\n",
      "adalah  AUX   <════╗ ║   cop\n",
      "kalimat NOUN  ═╗═╗═╝═╝═╗ root\n",
      "biasa   ADJ   <╝ ║     ║ amod\n",
      "saja    ADV   <══╝     ║ advmod\n",
      ".       PUNCT <════════╝ punct\n"
     ]
    }
   ],
   "source": [
    "# visualize dependency tree: plain text\n",
    "deplacy.render(doc)"
   ]
  },
  {
   "cell_type": "code",
   "execution_count": 7,
   "metadata": {
    "colab": {
     "base_uri": "https://localhost:8080/",
     "height": 685
    },
    "executionInfo": {
     "elapsed": 300,
     "status": "ok",
     "timestamp": 1743951991934,
     "user": {
      "displayName": "Eddie",
      "userId": "04962712568923965578"
     },
     "user_tz": -420
    },
    "id": "Khz3NjXoTIWP",
    "outputId": "6675bbc5-1583-4fcb-8ae5-822b9de86183"
   },
   "outputs": [
    {
     "data": {
      "image/svg+xml": [
       "<?xml version=\"1.0\" encoding=\"UTF-8\" standalone=\"no\"?>\n",
       "<!DOCTYPE svg PUBLIC \"-//W3C//DTD SVG 1.1//EN\"\n",
       " \"http://www.w3.org/Graphics/SVG/1.1/DTD/svg11.dtd\">\n",
       "<!-- Generated by graphviz version 2.43.0 (0)\n",
       " -->\n",
       "<!-- Title: deplacy Pages: 1 -->\n",
       "<svg width=\"336pt\" height=\"498pt\"\n",
       " viewBox=\"0.00 0.00 336.00 498.00\" xmlns=\"http://www.w3.org/2000/svg\" xmlns:xlink=\"http://www.w3.org/1999/xlink\">\n",
       "<g id=\"graph0\" class=\"graph\" transform=\"scale(1 1) rotate(0) translate(4 494)\">\n",
       "<title>deplacy</title>\n",
       "<polygon fill=\"white\" stroke=\"transparent\" points=\"-4,4 -4,-494 332,-494 332,4 -4,4\"/>\n",
       "<!-- r3 -->\n",
       "<g id=\"node1\" class=\"node\">\n",
       "<title>r3</title>\n",
       "<text text-anchor=\"middle\" x=\"210\" y=\"-482\" font-family=\"sans-serif\" font-size=\"10.00\">root</text>\n",
       "</g>\n",
       "<!-- x5 -->\n",
       "<g id=\"node2\" class=\"node\">\n",
       "<title>x5</title>\n",
       "<text text-anchor=\"middle\" x=\"210\" y=\"-420.3\" font-family=\"Times,serif\" font-size=\"14.00\">Ini adalah kalimat biasa saja.</text>\n",
       "</g>\n",
       "<!-- r3&#45;&gt;x5 -->\n",
       "<g id=\"edge1\" class=\"edge\">\n",
       "<title>r3&#45;&gt;x5</title>\n",
       "<path fill=\"none\" stroke=\"gray\" d=\"M210,-478.91C210,-473.11 210,-462.66 210,-452.5\"/>\n",
       "<polygon fill=\"gray\" stroke=\"gray\" points=\"213.5,-452.21 210,-442.21 206.5,-452.21 213.5,-452.21\"/>\n",
       "</g>\n",
       "<!-- x4 -->\n",
       "<g id=\"node3\" class=\"node\">\n",
       "<title>x4</title>\n",
       "<text text-anchor=\"middle\" x=\"143\" y=\"-347.3\" font-family=\"Times,serif\" font-size=\"14.00\">Ini adalah kalimat biasa saja</text>\n",
       "</g>\n",
       "<!-- x5&#45;&gt;x4 -->\n",
       "<g id=\"edge2\" class=\"edge\">\n",
       "<title>x5&#45;&gt;x4</title>\n",
       "<path fill=\"none\" stroke=\"gray\" d=\"M193.78,-405.81C185.47,-397 175.2,-386.13 166.08,-376.46\"/>\n",
       "<polygon fill=\"gray\" stroke=\"gray\" points=\"168.48,-373.9 159.07,-369.03 163.39,-378.7 168.48,-373.9\"/>\n",
       "</g>\n",
       "<!-- w -->\n",
       "<g id=\"node4\" class=\"node\">\n",
       "<title>w</title>\n",
       "<polygon fill=\"none\" stroke=\"black\" stroke-width=\"0\" points=\"0,-0.5 0,-46.5 314,-46.5 314,-0.5 0,-0.5\"/>\n",
       "<text text-anchor=\"middle\" x=\"26.5\" y=\"-31.3\" font-family=\"Times,serif\" font-size=\"14.00\">Ini</text>\n",
       "<polyline fill=\"none\" stroke=\"black\" stroke-width=\"0\" points=\"0,-23.5 53,-23.5 \"/>\n",
       "<text text-anchor=\"middle\" x=\"26.5\" y=\"-8.3\" font-family=\"Times,serif\" font-size=\"14.00\">PRON</text>\n",
       "<polyline fill=\"none\" stroke=\"black\" stroke-width=\"0\" points=\"53,-0.5 53,-46.5 \"/>\n",
       "<text text-anchor=\"middle\" x=\"79\" y=\"-31.3\" font-family=\"Times,serif\" font-size=\"14.00\">adalah</text>\n",
       "<polyline fill=\"none\" stroke=\"black\" stroke-width=\"0\" points=\"53,-23.5 105,-23.5 \"/>\n",
       "<text text-anchor=\"middle\" x=\"79\" y=\"-8.3\" font-family=\"Times,serif\" font-size=\"14.00\">AUX</text>\n",
       "<polyline fill=\"none\" stroke=\"black\" stroke-width=\"0\" points=\"105,-0.5 105,-46.5 \"/>\n",
       "<text text-anchor=\"middle\" x=\"134\" y=\"-31.3\" font-family=\"Times,serif\" font-size=\"14.00\">kalimat</text>\n",
       "<polyline fill=\"none\" stroke=\"black\" stroke-width=\"0\" points=\"105,-23.5 163,-23.5 \"/>\n",
       "<text text-anchor=\"middle\" x=\"134\" y=\"-8.3\" font-family=\"Times,serif\" font-size=\"14.00\">NOUN</text>\n",
       "<polyline fill=\"none\" stroke=\"black\" stroke-width=\"0\" points=\"163,-0.5 163,-46.5 \"/>\n",
       "<text text-anchor=\"middle\" x=\"185\" y=\"-31.3\" font-family=\"Times,serif\" font-size=\"14.00\">biasa</text>\n",
       "<polyline fill=\"none\" stroke=\"black\" stroke-width=\"0\" points=\"163,-23.5 207,-23.5 \"/>\n",
       "<text text-anchor=\"middle\" x=\"185\" y=\"-8.3\" font-family=\"Times,serif\" font-size=\"14.00\">ADJ</text>\n",
       "<polyline fill=\"none\" stroke=\"black\" stroke-width=\"0\" points=\"207,-0.5 207,-46.5 \"/>\n",
       "<text text-anchor=\"middle\" x=\"230\" y=\"-31.3\" font-family=\"Times,serif\" font-size=\"14.00\">saja</text>\n",
       "<polyline fill=\"none\" stroke=\"black\" stroke-width=\"0\" points=\"207,-23.5 253,-23.5 \"/>\n",
       "<text text-anchor=\"middle\" x=\"230\" y=\"-8.3\" font-family=\"Times,serif\" font-size=\"14.00\">ADV</text>\n",
       "<polyline fill=\"none\" stroke=\"black\" stroke-width=\"0\" points=\"253,-0.5 253,-46.5 \"/>\n",
       "<text text-anchor=\"middle\" x=\"283.5\" y=\"-31.3\" font-family=\"Times,serif\" font-size=\"14.00\">.</text>\n",
       "<polyline fill=\"none\" stroke=\"black\" stroke-width=\"0\" points=\"253,-23.5 314,-23.5 \"/>\n",
       "<text text-anchor=\"middle\" x=\"283.5\" y=\"-8.3\" font-family=\"Times,serif\" font-size=\"14.00\">PUNCT</text>\n",
       "</g>\n",
       "<!-- x5&#45;&gt;w -->\n",
       "<g id=\"edge3\" class=\"edge\">\n",
       "<title>x5&#45;&gt;w:6</title>\n",
       "<path fill=\"none\" stroke=\"gray\" d=\"M254.01,-405.94C275.59,-394.43 297,-376.76 297,-352 297,-352 297,-352 297,-111 297,-85.72 287.14,-77.94 284.59,-57.17\"/>\n",
       "<polygon fill=\"gray\" stroke=\"gray\" points=\"288.08,-56.78 284,-47 281.09,-57.19 288.08,-56.78\"/>\n",
       "<text text-anchor=\"middle\" x=\"312.5\" y=\"-234\" font-family=\"sans-serif\" font-size=\"10.00\">punct</text>\n",
       "</g>\n",
       "<!-- x4&#45;&gt;w -->\n",
       "<g id=\"edge4\" class=\"edge\">\n",
       "<title>x4&#45;&gt;w:1</title>\n",
       "<path fill=\"none\" stroke=\"gray\" d=\"M66.23,-332.96C40.87,-322.46 19,-305.67 19,-279 19,-279 19,-279 19,-111 19,-86.07 24.31,-77.72 25.68,-57.07\"/>\n",
       "<polygon fill=\"gray\" stroke=\"gray\" points=\"29.18,-57.11 26,-47 22.19,-56.88 29.18,-57.11\"/>\n",
       "<text text-anchor=\"middle\" x=\"34.5\" y=\"-192.5\" font-family=\"sans-serif\" font-size=\"10.00\">nsubj</text>\n",
       "</g>\n",
       "<!-- x3 -->\n",
       "<g id=\"node5\" class=\"node\">\n",
       "<title>x3</title>\n",
       "<text text-anchor=\"middle\" x=\"143\" y=\"-274.3\" font-family=\"Times,serif\" font-size=\"14.00\">adalah kalimat biasa saja</text>\n",
       "</g>\n",
       "<!-- x4&#45;&gt;x3 -->\n",
       "<g id=\"edge5\" class=\"edge\">\n",
       "<title>x4&#45;&gt;x3</title>\n",
       "<path fill=\"none\" stroke=\"gray\" d=\"M143,-332.81C143,-324.79 143,-315.05 143,-306.07\"/>\n",
       "<polygon fill=\"gray\" stroke=\"gray\" points=\"146.5,-306.03 143,-296.03 139.5,-306.03 146.5,-306.03\"/>\n",
       "</g>\n",
       "<!-- x3&#45;&gt;w -->\n",
       "<g id=\"edge6\" class=\"edge\">\n",
       "<title>x3&#45;&gt;w:2</title>\n",
       "<path fill=\"none\" stroke=\"gray\" d=\"M126.99,-259.98C116.59,-247.85 103.75,-230.64 97,-213 71.71,-146.94 78.28,-123.42 78.95,-57.1\"/>\n",
       "<polygon fill=\"gray\" stroke=\"gray\" points=\"82.45,-57.02 79,-47 75.45,-56.98 82.45,-57.02\"/>\n",
       "<text text-anchor=\"middle\" x=\"90.5\" y=\"-151\" font-family=\"sans-serif\" font-size=\"10.00\">cop</text>\n",
       "</g>\n",
       "<!-- x2 -->\n",
       "<g id=\"node6\" class=\"node\">\n",
       "<title>x2</title>\n",
       "<text text-anchor=\"middle\" x=\"163\" y=\"-191.3\" font-family=\"Times,serif\" font-size=\"14.00\">kalimat biasa saja</text>\n",
       "</g>\n",
       "<!-- x3&#45;&gt;x2 -->\n",
       "<g id=\"edge7\" class=\"edge\">\n",
       "<title>x3&#45;&gt;x2</title>\n",
       "<path fill=\"none\" stroke=\"gray\" d=\"M147.24,-259.82C149.87,-249.19 153.29,-235.31 156.28,-223.2\"/>\n",
       "<polygon fill=\"gray\" stroke=\"gray\" points=\"159.77,-223.7 158.76,-213.15 152.97,-222.02 159.77,-223.7\"/>\n",
       "</g>\n",
       "<!-- x2&#45;&gt;w -->\n",
       "<g id=\"edge9\" class=\"edge\">\n",
       "<title>x2&#45;&gt;w:5</title>\n",
       "<path fill=\"none\" stroke=\"gray\" d=\"M176.88,-176.61C195.2,-151.98 225.61,-104.62 229.57,-57.13\"/>\n",
       "<polygon fill=\"gray\" stroke=\"gray\" points=\"233.07,-57.14 230,-47 226.08,-56.84 233.07,-57.14\"/>\n",
       "<text text-anchor=\"middle\" x=\"239.5\" y=\"-109.5\" font-family=\"sans-serif\" font-size=\"10.00\">advmod</text>\n",
       "</g>\n",
       "<!-- x1 -->\n",
       "<g id=\"node7\" class=\"node\">\n",
       "<title>x1</title>\n",
       "<text text-anchor=\"middle\" x=\"151\" y=\"-108.3\" font-family=\"Times,serif\" font-size=\"14.00\">kalimat biasa</text>\n",
       "</g>\n",
       "<!-- x2&#45;&gt;x1 -->\n",
       "<g id=\"edge8\" class=\"edge\">\n",
       "<title>x2&#45;&gt;x1</title>\n",
       "<path fill=\"none\" stroke=\"gray\" d=\"M160.46,-176.82C158.88,-166.19 156.82,-152.31 155.03,-140.2\"/>\n",
       "<polygon fill=\"gray\" stroke=\"gray\" points=\"158.47,-139.53 153.54,-130.15 151.54,-140.56 158.47,-139.53\"/>\n",
       "</g>\n",
       "<!-- x1&#45;&gt;w -->\n",
       "<g id=\"edge10\" class=\"edge\">\n",
       "<title>x1&#45;&gt;w:3</title>\n",
       "<path fill=\"none\" stroke=\"gray\" d=\"M143.89,-93.94C140.18,-83.81 136.1,-70.38 134.6,-57.09\"/>\n",
       "<polygon fill=\"gray\" stroke=\"gray\" points=\"138.09,-56.77 134,-47 131.1,-57.19 138.09,-56.77\"/>\n",
       "</g>\n",
       "<!-- x1&#45;&gt;w -->\n",
       "<g id=\"edge11\" class=\"edge\">\n",
       "<title>x1&#45;&gt;w:4</title>\n",
       "<path fill=\"none\" stroke=\"gray\" d=\"M166.01,-93.81C173.34,-83.99 181.17,-70.91 183.95,-57.12\"/>\n",
       "<polygon fill=\"gray\" stroke=\"gray\" points=\"187.45,-57.31 185,-47 180.49,-56.58 187.45,-57.31\"/>\n",
       "<text text-anchor=\"middle\" x=\"193.5\" y=\"-68\" font-family=\"sans-serif\" font-size=\"10.00\">amod</text>\n",
       "</g>\n",
       "</g>\n",
       "</svg>\n"
      ],
      "text/plain": [
       "<graphviz.sources.Source at 0x7bc77de8ab90>"
      ]
     },
     "execution_count": 7,
     "metadata": {},
     "output_type": "execute_result"
    }
   ],
   "source": [
    "# visualize dependency tree: graph\n",
    "graphviz.Source(deplacy.dot(doc))"
   ]
  },
  {
   "cell_type": "code",
   "execution_count": 8,
   "metadata": {
    "colab": {
     "base_uri": "https://localhost:8080/",
     "height": 421
    },
    "executionInfo": {
     "elapsed": 56,
     "status": "ok",
     "timestamp": 1743951991990,
     "user": {
      "displayName": "Eddie",
      "userId": "04962712568923965578"
     },
     "user_tz": -420
    },
    "id": "nhEZ680_TOs4",
    "outputId": "07f38f77-c1ea-41c1-e51d-35602015401c"
   },
   "outputs": [
    {
     "data": {
      "text/html": [
       "\n",
       "        <iframe\n",
       "            width=\"100%\"\n",
       "            height=\"400\"\n",
       "            src=\"https://koichiyasuoka.github.io/deplacy/deplacy/editor.html#%23%20text%20%3D%20Ini%20adalah%20kalimat%20biasa%20saja.%0A%23%20sent_id%20%3D%200%0A%23%20constituency%20%3D%20%28ROOT%20%28S%20%28NP%20%28PRON%20Ini%29%29%20%28VP%20%28AUX%20adalah%29%20%28NP%20%28NOUN%20kalimat%29%20%28ADJ%20biasa%29%20%28ADV%20saja%29%29%29%20%28PUNCT%20.%29%29%29%0A1%09Ini%09ini%09PRON%09B--%09PronType%3DDem%093%09nsubj%09_%09start_char%3D0%7Cend_char%3D3%0A2%09adalah%09adalah%09AUX%09O--%09_%093%09cop%09_%09start_char%3D4%7Cend_char%3D10%0A3%09kalimat%09kalimat%09NOUN%09NSD%09Number%3DSing%090%09root%09_%09start_char%3D11%7Cend_char%3D18%0A4%09biasa%09biasa%09ADJ%09ASP%09_%093%09amod%09_%09start_char%3D19%7Cend_char%3D24%0A5%09saja%09saja%09ADV%09D--%09_%093%09advmod%09_%09start_char%3D25%7Cend_char%3D29%7CSpaceAfter%3DNo%0A6%09.%09.%09PUNCT%09Z--%09_%093%09punct%09_%09start_char%3D29%7Cend_char%3D30%7CSpaceAfter%3DNo%0A\"\n",
       "            frameborder=\"0\"\n",
       "            allowfullscreen\n",
       "            \n",
       "        ></iframe>\n",
       "        "
      ],
      "text/plain": [
       "<IPython.lib.display.IFrame at 0x7bc86b314950>"
      ]
     },
     "metadata": {},
     "output_type": "display_data"
    }
   ],
   "source": [
    "# show dependency tree: interactive\n",
    "deplacy.serve(doc, port=None)"
   ]
  },
  {
   "cell_type": "code",
   "execution_count": 9,
   "metadata": {
    "colab": {
     "base_uri": "https://localhost:8080/"
    },
    "executionInfo": {
     "elapsed": 10,
     "status": "ok",
     "timestamp": 1743951991992,
     "user": {
      "displayName": "Eddie",
      "userId": "04962712568923965578"
     },
     "user_tz": -420
    },
    "id": "RRnxFxEiUd-g",
    "outputId": "a403f63c-e1b1-45b2-8575-e3e894bd3b07"
   },
   "outputs": [
    {
     "name": "stdout",
     "output_type": "stream",
     "text": [
      "Text: Ini, Lemma: ini, POS: PRON, Morph: PronType=Dem\n",
      "Text: adalah, Lemma: adalah, POS: AUX, Morph: None\n",
      "Text: kalimat, Lemma: kalimat, POS: NOUN, Morph: Number=Sing\n",
      "Text: biasa, Lemma: biasa, POS: ADJ, Morph: None\n",
      "Text: saja, Lemma: saja, POS: ADV, Morph: None\n",
      "Text: ., Lemma: ., POS: PUNCT, Morph: None\n"
     ]
    }
   ],
   "source": [
    "for sentence in doc.sentences:\n",
    "    for word in sentence.words:\n",
    "        print(f\"Text: {word.text}, Lemma: {word.lemma}, POS: {word.upos}, Morph: {word.feats}\")"
   ]
  }
 ],
 "metadata": {
  "colab": {
   "authorship_tag": "ABX9TyNTrPtxP1QTEX5smFdg6iHq",
   "provenance": [],
   "toc_visible": true
  },
  "kernelspec": {
   "display_name": "Python 3",
   "name": "python3"
  },
  "language_info": {
   "name": "python"
  },
  "widgets": {
   "application/vnd.jupyter.widget-state+json": {
    "0685b7d32cbd4368860330661707d6bc": {
     "model_module": "@jupyter-widgets/base",
     "model_module_version": "1.2.0",
     "model_name": "LayoutModel",
     "state": {
      "_model_module": "@jupyter-widgets/base",
      "_model_module_version": "1.2.0",
      "_model_name": "LayoutModel",
      "_view_count": null,
      "_view_module": "@jupyter-widgets/base",
      "_view_module_version": "1.2.0",
      "_view_name": "LayoutView",
      "align_content": null,
      "align_items": null,
      "align_self": null,
      "border": null,
      "bottom": null,
      "display": null,
      "flex": null,
      "flex_flow": null,
      "grid_area": null,
      "grid_auto_columns": null,
      "grid_auto_flow": null,
      "grid_auto_rows": null,
      "grid_column": null,
      "grid_gap": null,
      "grid_row": null,
      "grid_template_areas": null,
      "grid_template_columns": null,
      "grid_template_rows": null,
      "height": null,
      "justify_content": null,
      "justify_items": null,
      "left": null,
      "margin": null,
      "max_height": null,
      "max_width": null,
      "min_height": null,
      "min_width": null,
      "object_fit": null,
      "object_position": null,
      "order": null,
      "overflow": null,
      "overflow_x": null,
      "overflow_y": null,
      "padding": null,
      "right": null,
      "top": null,
      "visibility": null,
      "width": null
     }
    },
    "2b15bb4f38e4465abb0249bef9cc881a": {
     "model_module": "@jupyter-widgets/controls",
     "model_module_version": "1.5.0",
     "model_name": "ProgressStyleModel",
     "state": {
      "_model_module": "@jupyter-widgets/controls",
      "_model_module_version": "1.5.0",
      "_model_name": "ProgressStyleModel",
      "_view_count": null,
      "_view_module": "@jupyter-widgets/base",
      "_view_module_version": "1.2.0",
      "_view_name": "StyleView",
      "bar_color": null,
      "description_width": ""
     }
    },
    "38808b645b164e199e65ced5c80b494d": {
     "model_module": "@jupyter-widgets/base",
     "model_module_version": "1.2.0",
     "model_name": "LayoutModel",
     "state": {
      "_model_module": "@jupyter-widgets/base",
      "_model_module_version": "1.2.0",
      "_model_name": "LayoutModel",
      "_view_count": null,
      "_view_module": "@jupyter-widgets/base",
      "_view_module_version": "1.2.0",
      "_view_name": "LayoutView",
      "align_content": null,
      "align_items": null,
      "align_self": null,
      "border": null,
      "bottom": null,
      "display": null,
      "flex": null,
      "flex_flow": null,
      "grid_area": null,
      "grid_auto_columns": null,
      "grid_auto_flow": null,
      "grid_auto_rows": null,
      "grid_column": null,
      "grid_gap": null,
      "grid_row": null,
      "grid_template_areas": null,
      "grid_template_columns": null,
      "grid_template_rows": null,
      "height": null,
      "justify_content": null,
      "justify_items": null,
      "left": null,
      "margin": null,
      "max_height": null,
      "max_width": null,
      "min_height": null,
      "min_width": null,
      "object_fit": null,
      "object_position": null,
      "order": null,
      "overflow": null,
      "overflow_x": null,
      "overflow_y": null,
      "padding": null,
      "right": null,
      "top": null,
      "visibility": null,
      "width": null
     }
    },
    "41eb4f5e63c74048845e5ea06ef8f9c7": {
     "model_module": "@jupyter-widgets/controls",
     "model_module_version": "1.5.0",
     "model_name": "HTMLModel",
     "state": {
      "_dom_classes": [],
      "_model_module": "@jupyter-widgets/controls",
      "_model_module_version": "1.5.0",
      "_model_name": "HTMLModel",
      "_view_count": null,
      "_view_module": "@jupyter-widgets/controls",
      "_view_module_version": "1.5.0",
      "_view_name": "HTMLView",
      "description": "",
      "description_tooltip": null,
      "layout": "IPY_MODEL_bcd48ad55b6144b5b30f9ea0c64f992f",
      "placeholder": "​",
      "style": "IPY_MODEL_f49ef91df6334bdf94c6ec050a7ec9db",
      "value": "model.safetensors: 100%"
     }
    },
    "7ea4be46b6ac4e078937d1bb98f615e0": {
     "model_module": "@jupyter-widgets/controls",
     "model_module_version": "1.5.0",
     "model_name": "HBoxModel",
     "state": {
      "_dom_classes": [],
      "_model_module": "@jupyter-widgets/controls",
      "_model_module_version": "1.5.0",
      "_model_name": "HBoxModel",
      "_view_count": null,
      "_view_module": "@jupyter-widgets/controls",
      "_view_module_version": "1.5.0",
      "_view_name": "HBoxView",
      "box_style": "",
      "children": [
       "IPY_MODEL_41eb4f5e63c74048845e5ea06ef8f9c7",
       "IPY_MODEL_e2f21c199e92421f90bc22d0e9675135",
       "IPY_MODEL_c62ffad156dc491f931303f9af7499fa"
      ],
      "layout": "IPY_MODEL_38808b645b164e199e65ced5c80b494d"
     }
    },
    "a091fa803bcc4da5b0c90600644ba516": {
     "model_module": "@jupyter-widgets/controls",
     "model_module_version": "1.5.0",
     "model_name": "DescriptionStyleModel",
     "state": {
      "_model_module": "@jupyter-widgets/controls",
      "_model_module_version": "1.5.0",
      "_model_name": "DescriptionStyleModel",
      "_view_count": null,
      "_view_module": "@jupyter-widgets/base",
      "_view_module_version": "1.2.0",
      "_view_name": "StyleView",
      "description_width": ""
     }
    },
    "a3dd296a05144ecba558b9a5a3b3ff37": {
     "model_module": "@jupyter-widgets/base",
     "model_module_version": "1.2.0",
     "model_name": "LayoutModel",
     "state": {
      "_model_module": "@jupyter-widgets/base",
      "_model_module_version": "1.2.0",
      "_model_name": "LayoutModel",
      "_view_count": null,
      "_view_module": "@jupyter-widgets/base",
      "_view_module_version": "1.2.0",
      "_view_name": "LayoutView",
      "align_content": null,
      "align_items": null,
      "align_self": null,
      "border": null,
      "bottom": null,
      "display": null,
      "flex": null,
      "flex_flow": null,
      "grid_area": null,
      "grid_auto_columns": null,
      "grid_auto_flow": null,
      "grid_auto_rows": null,
      "grid_column": null,
      "grid_gap": null,
      "grid_row": null,
      "grid_template_areas": null,
      "grid_template_columns": null,
      "grid_template_rows": null,
      "height": null,
      "justify_content": null,
      "justify_items": null,
      "left": null,
      "margin": null,
      "max_height": null,
      "max_width": null,
      "min_height": null,
      "min_width": null,
      "object_fit": null,
      "object_position": null,
      "order": null,
      "overflow": null,
      "overflow_x": null,
      "overflow_y": null,
      "padding": null,
      "right": null,
      "top": null,
      "visibility": null,
      "width": null
     }
    },
    "bcd48ad55b6144b5b30f9ea0c64f992f": {
     "model_module": "@jupyter-widgets/base",
     "model_module_version": "1.2.0",
     "model_name": "LayoutModel",
     "state": {
      "_model_module": "@jupyter-widgets/base",
      "_model_module_version": "1.2.0",
      "_model_name": "LayoutModel",
      "_view_count": null,
      "_view_module": "@jupyter-widgets/base",
      "_view_module_version": "1.2.0",
      "_view_name": "LayoutView",
      "align_content": null,
      "align_items": null,
      "align_self": null,
      "border": null,
      "bottom": null,
      "display": null,
      "flex": null,
      "flex_flow": null,
      "grid_area": null,
      "grid_auto_columns": null,
      "grid_auto_flow": null,
      "grid_auto_rows": null,
      "grid_column": null,
      "grid_gap": null,
      "grid_row": null,
      "grid_template_areas": null,
      "grid_template_columns": null,
      "grid_template_rows": null,
      "height": null,
      "justify_content": null,
      "justify_items": null,
      "left": null,
      "margin": null,
      "max_height": null,
      "max_width": null,
      "min_height": null,
      "min_width": null,
      "object_fit": null,
      "object_position": null,
      "order": null,
      "overflow": null,
      "overflow_x": null,
      "overflow_y": null,
      "padding": null,
      "right": null,
      "top": null,
      "visibility": null,
      "width": null
     }
    },
    "c62ffad156dc491f931303f9af7499fa": {
     "model_module": "@jupyter-widgets/controls",
     "model_module_version": "1.5.0",
     "model_name": "HTMLModel",
     "state": {
      "_dom_classes": [],
      "_model_module": "@jupyter-widgets/controls",
      "_model_module_version": "1.5.0",
      "_model_name": "HTMLModel",
      "_view_count": null,
      "_view_module": "@jupyter-widgets/controls",
      "_view_module_version": "1.5.0",
      "_view_name": "HTMLView",
      "description": "",
      "description_tooltip": null,
      "layout": "IPY_MODEL_0685b7d32cbd4368860330661707d6bc",
      "placeholder": "​",
      "style": "IPY_MODEL_a091fa803bcc4da5b0c90600644ba516",
      "value": " 498M/498M [00:03&lt;00:00, 124MB/s]"
     }
    },
    "e2f21c199e92421f90bc22d0e9675135": {
     "model_module": "@jupyter-widgets/controls",
     "model_module_version": "1.5.0",
     "model_name": "FloatProgressModel",
     "state": {
      "_dom_classes": [],
      "_model_module": "@jupyter-widgets/controls",
      "_model_module_version": "1.5.0",
      "_model_name": "FloatProgressModel",
      "_view_count": null,
      "_view_module": "@jupyter-widgets/controls",
      "_view_module_version": "1.5.0",
      "_view_name": "ProgressView",
      "bar_style": "success",
      "description": "",
      "description_tooltip": null,
      "layout": "IPY_MODEL_a3dd296a05144ecba558b9a5a3b3ff37",
      "max": 497787752,
      "min": 0,
      "orientation": "horizontal",
      "style": "IPY_MODEL_2b15bb4f38e4465abb0249bef9cc881a",
      "value": 497787752
     }
    },
    "f49ef91df6334bdf94c6ec050a7ec9db": {
     "model_module": "@jupyter-widgets/controls",
     "model_module_version": "1.5.0",
     "model_name": "DescriptionStyleModel",
     "state": {
      "_model_module": "@jupyter-widgets/controls",
      "_model_module_version": "1.5.0",
      "_model_name": "DescriptionStyleModel",
      "_view_count": null,
      "_view_module": "@jupyter-widgets/base",
      "_view_module_version": "1.2.0",
      "_view_name": "StyleView",
      "description_width": ""
     }
    }
   }
  }
 },
 "nbformat": 4,
 "nbformat_minor": 0
}
